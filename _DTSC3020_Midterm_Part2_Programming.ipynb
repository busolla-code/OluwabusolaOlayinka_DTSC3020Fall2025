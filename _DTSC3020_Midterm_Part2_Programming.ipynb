{
  "cells": [
    {
      "cell_type": "markdown",
      "metadata": {
        "id": "view-in-github",
        "colab_type": "text"
      },
      "source": [
        "<a href=\"https://colab.research.google.com/github/busolla-code/OluwabusolaOlayinka_DTSC3020Fall2025/blob/main/_DTSC3020_Midterm_Part2_Programming.ipynb\" target=\"_parent\"><img src=\"https://colab.research.google.com/assets/colab-badge.svg\" alt=\"Open In Colab\"/></a>"
      ]
    },
    {
      "cell_type": "markdown",
      "id": "8e58db4f",
      "metadata": {
        "id": "8e58db4f"
      },
      "source": [
        "# DTSC 3020 — Midterm Exam (Part 2: Programming)\n",
        "University of North Texas\n",
        "\n",
        "**Course:** Introduction to Computation with Python (DTSC 3020)  \n",
        "**Exam:** Midterm — Programming (Ch. 1–8 concepts)\n",
        "\n"
      ]
    },
    {
      "cell_type": "markdown",
      "id": "ed86aaec",
      "metadata": {
        "id": "ed86aaec"
      },
      "source": [
        "---\n",
        "### Instructions\n",
        "- Write clean, readable Python code for each question.\n",
        "- Use only standard Python; no external libraries.\n",
        "- Where required, write a function and return the result.\n",
        "- After each solution cell, there is a **Part 2 — Test Scenario**. Follow the prompt to run your code.\n",
        "\n",
        "---"
      ]
    },
    {
      "cell_type": "markdown",
      "id": "227c4435",
      "metadata": {
        "id": "227c4435"
      },
      "source": [
        "## Question 1 — Create Member ID\n",
        "Write a Python function `create_member_id(full_name)` that creates a Library Member ID from a person’s full name.\n",
        "\n",
        "**Rules**\n",
        "- Normalize the name: remove extra spaces, convert to lowercase, and split by spaces.\n",
        "- Use the last word as the last name (e.g., `\"John Ronald Reuel Tolkien\"` → last name `tolkien`).\n",
        "- Use the first letters of all earlier words as initials (e.g., `jrr` for the example above).\n",
        "- Construct the member ID in this exact format: `lastname_initials` (underscore between them; no spaces).\n",
        "\n",
        "**Examples**\n",
        "- `\"Sara Amini\"` → `amini_sa`\n",
        "- `\"Mary Jane Watson\"` → `watson_mj`\n",
        "- `\"LINA\"` (single word) → use the word for both parts: `lina_l`\n",
        "\n",
        "Part 2 — Test Scenario (run using your function)\n",
        "names = [\"Sara Amini\", \"Ali\", \"Mary Jane\", \"John Smith\", \"LINA\", \"madonna\", \"sara amini\"]\n",
        "\n",
        "\n",
        "\n"
      ]
    },
    {
      "cell_type": "code",
      "source": [
        "# Write your answer here for Q1\n",
        "def create_member_id(full_name):\n",
        "    name_parts = full_name.lower().strip().split()\n",
        "\n",
        "    if len(name_parts) == 1:\n",
        "        last_name = name_parts[0]\n",
        "        initials = name_parts[0][0]\n",
        "    else:\n",
        "        last_name = name_parts[-1]\n",
        "        initials = \"\".join([part[0] for part in name_parts[:-1]]) # Get first initial from all parts except the last\n",
        "\n",
        "    member_id = f\"{last_name}_{initials}\"\n",
        "    return member_id"
      ],
      "metadata": {
        "id": "OiuYcYfRgtZ6"
      },
      "id": "OiuYcYfRgtZ6",
      "execution_count": 113,
      "outputs": []
    },
    {
      "cell_type": "code",
      "execution_count": 114,
      "id": "584ae4f0",
      "metadata": {
        "id": "584ae4f0",
        "colab": {
          "base_uri": "https://localhost:8080/"
        },
        "outputId": "cd57ac52-42e4-4352-fa3a-a81d8c058ed9"
      },
      "outputs": [
        {
          "output_type": "stream",
          "name": "stdout",
          "text": [
            "amini_s\n",
            "ali_a\n",
            "jane_m\n",
            "smith_j\n",
            "lina_l\n",
            "madonna_m\n",
            "amini_s\n"
          ]
        }
      ],
      "source": [
        "# Part 2 — Test Scenario (run using your function)\n",
        "names = [\"Sara Amini\", \"Ali\", \"Mary Jane\", \"John Smith\", \"LINA\", \"madonna\", \"sara amini\"]\n",
        "for name in names:\n",
        "  print(create_member_id(name))"
      ]
    },
    {
      "cell_type": "markdown",
      "id": "c1727720",
      "metadata": {
        "id": "c1727720"
      },
      "source": [
        "## Question 2 — Movie Ticket Booth\n",
        "\n",
        "Write a Python program that simulates a movie ticket booth using this price list:\n",
        "\n",
        "```python\n",
        "prices = {\"adult\": 12.5, \"child\": 8, \"senior\": 9.5, \"student\": 10}\n",
        "```\n",
        "\n",
        "**Program Requirements**\n",
        "- Repeatedly ask the user to enter a ticket type or type `done` to finish.\n",
        "- Valid inputs: `adult`, `child`, `senior`, `student`, or `done`.\n",
        "- If the ticket type exists, add its price to a running total and print a confirmation message.\n",
        "- If it doesn’t exist, print `\"Invalid ticket type\"`.\n",
        "- When the user types `done`, stop and show:\n",
        "  - **Subtotal** (sum of valid ticket prices)\n",
        "  - **Tax** = 8% of subtotal\n",
        "  - **Final total** = subtotal + tax\n"
      ]
    },
    {
      "cell_type": "code",
      "source": [
        "# Write your answer here\n",
        "prices = {\"adult\": 12.5, \"child\": 8, \"senior\": 9.5, \"student\": 10}\n",
        "subtotal = 0\n",
        "\n",
        "while True:\n",
        "    ticket_type = input(\"Enter a ticket type or type 'done' to finish: \").lower()\n",
        "    if ticket_type == 'done':\n",
        "        break\n",
        "    elif ticket_type in prices:\n",
        "        subtotal += prices[ticket_type]\n",
        "        print(f\"Added {ticket_type} ticket.\")\n",
        "    else:\n",
        "        print(\"Invalid ticket type\")\n",
        "tax_rate = 0.08\n",
        "tax = subtotal * tax_rate\n",
        "final_total = subtotal + tax\n",
        "\n",
        "print(f\"\\nSubtotal: ${subtotal:.2f}\")\n",
        "print(f\"Tax (8%): ${tax:.2f}\")\n",
        "print(f\"Final total: ${final_total:.2f}\")"
      ],
      "metadata": {
        "colab": {
          "base_uri": "https://localhost:8080/"
        },
        "id": "gz-XasLTptTc",
        "outputId": "b67a5b27-2b02-4ca7-e371-9aa230843eb8"
      },
      "id": "gz-XasLTptTc",
      "execution_count": null,
      "outputs": [
        {
          "output_type": "stream",
          "name": "stdout",
          "text": [
            "Enter a ticket type or type 'done' to finish: adult\n",
            "Added adult ticket.\n",
            "Enter a ticket type or type 'done' to finish: child\n",
            "Added child ticket.\n",
            "Enter a ticket type or type 'done' to finish: senior\n",
            "Added senior ticket.\n",
            "Enter a ticket type or type 'done' to finish: done\n",
            "\n",
            "Subtotal: $30.00\n",
            "Tax (8%): $2.40\n",
            "Final total: $32.40\n"
          ]
        }
      ]
    },
    {
      "cell_type": "markdown",
      "id": "17b39afe",
      "metadata": {
        "id": "17b39afe"
      },
      "source": [
        "**Part 2 — Example Scenario**\n",
        "When prompted, type the following (each on a new line), then press Enter after each entry:\n",
        "\n",
        "```\n",
        "adult\n",
        "child\n",
        "student\n",
        "done\n",
        "```\n",
        "Your program should complete and display the subtotal, tax, and final total based on these entries.\n"
      ]
    },
    {
      "cell_type": "markdown",
      "id": "28c710b6",
      "metadata": {
        "id": "28c710b6"
      },
      "source": [
        "## Question 3 — Student Grade Analyzer\n",
        "\n",
        "Write a Python function `analyze_grades(grades)` that takes a list of numbers (0–100) and returns three values:\n",
        "1. average grade\n",
        "2. highest grade\n",
        "3. lowest grade\n",
        "\n",
        "**Constraints**\n",
        "- Use a function and return statement(s).\n",
        "- Do not use external libraries.\n"
      ]
    },
    {
      "cell_type": "code",
      "execution_count": 86,
      "id": "efce3052",
      "metadata": {
        "id": "efce3052"
      },
      "outputs": [],
      "source": [
        "# Write your answer here for Q3\n",
        "def analyze_grades(grades):\n",
        "  average_grade = sum(grades) / len(grades)\n",
        "  highest_grade = max(grades)\n",
        "  lowest_grade = min(grades)\n",
        "\n",
        "  return average_grade, highest_grade, lowest_grade"
      ]
    },
    {
      "cell_type": "code",
      "source": [
        "# Part 2 — Test Scenario\n",
        "sample = [88, 92, 79, 93, 85, 90, 72]\n",
        "(analyze_grades(sample))\n",
        ""
      ],
      "metadata": {
        "colab": {
          "base_uri": "https://localhost:8080/"
        },
        "id": "avrvxWPEtnWK",
        "outputId": "6a8cb174-bd2e-4e8a-b411-0dad71dedb8b"
      },
      "id": "avrvxWPEtnWK",
      "execution_count": 88,
      "outputs": [
        {
          "output_type": "execute_result",
          "data": {
            "text/plain": [
              "(85.57142857142857, 93, 72)"
            ]
          },
          "metadata": {},
          "execution_count": 88
        }
      ]
    },
    {
      "cell_type": "markdown",
      "id": "d378f3c3",
      "metadata": {
        "id": "d378f3c3"
      },
      "source": [
        "## Question 4 — PIN Verification\n",
        "Write a Python program that simulates an ATM PIN verification system.\n",
        "\n",
        "**Requirements**\n",
        "- The correct PIN is `4321`.\n",
        "- The user has at most **3 attempts** to enter the correct PIN.\n",
        "- If the PIN is correct: print `Access granted.` and stop.\n",
        "- If all 3 attempts fail: print `Card blocked.`\n",
        "- After each wrong attempt, also print the counter in the form `Wrong (x/3)`.\n"
      ]
    },
    {
      "cell_type": "code",
      "execution_count": 115,
      "id": "5ea085a2",
      "metadata": {
        "id": "5ea085a2",
        "colab": {
          "base_uri": "https://localhost:8080/"
        },
        "outputId": "1a6c1ac9-660e-4c20-9105-f16bbc2e1760"
      },
      "outputs": [
        {
          "output_type": "stream",
          "name": "stdout",
          "text": [
            "Enter your pin:1111\n",
            "Incorrect pin. Wrong attempts 1 / 3\n",
            "Enter your pin:2222\n",
            "Incorrect pin. Wrong attempts 2 / 3\n",
            "Enter your pin:4321\n",
            "Correct pin. Access granted.\n"
          ]
        }
      ],
      "source": [
        "# Write your answer here\n",
        "pin='4321'\n",
        "attempts = 0\n",
        "while attempts < 3:\n",
        "  pin_guess = input(\"Enter your pin:\")\n",
        "  if pin_guess == pin:\n",
        "    print(\"Correct pin. Access granted.\")\n",
        "    break\n",
        "  elif pin_guess != pin:\n",
        "    attempts = attempts + 1\n",
        "    print(f\"Incorrect pin. Wrong attempts {attempts} / 3\")\n",
        "    if attempts == 3:\n",
        "      print(\"Card blocked.\")\n",
        "      break"
      ]
    },
    {
      "cell_type": "markdown",
      "id": "1c61e343",
      "metadata": {
        "id": "1c61e343"
      },
      "source": [
        "**Part 2 — Test Scenario**\n",
        "Run your program and, when prompted, enter these sequences to verify both behaviors:\n",
        "\n",
        "**Scenario A**\n",
        "```\n",
        "1111\n",
        "2222\n",
        "4321\n",
        "```\n",
        "\n",
        "\n"
      ]
    }
  ],
  "metadata": {
    "kernelspec": {
      "display_name": "Python 3",
      "language": "python",
      "name": "python3"
    },
    "language_info": {
      "name": "python",
      "version": "3.x"
    },
    "colab": {
      "provenance": [],
      "include_colab_link": true
    }
  },
  "nbformat": 4,
  "nbformat_minor": 5
}