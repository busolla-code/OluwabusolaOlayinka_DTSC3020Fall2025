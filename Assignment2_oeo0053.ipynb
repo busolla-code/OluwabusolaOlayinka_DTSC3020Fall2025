{
  "nbformat": 4,
  "nbformat_minor": 0,
  "metadata": {
    "colab": {
      "provenance": [],
      "authorship_tag": "ABX9TyOwamtfEStvTF9mPGI5aRPo",
      "include_colab_link": true
    },
    "kernelspec": {
      "name": "python3",
      "display_name": "Python 3"
    },
    "language_info": {
      "name": "python"
    }
  },
  "cells": [
    {
      "cell_type": "markdown",
      "metadata": {
        "id": "view-in-github",
        "colab_type": "text"
      },
      "source": [
        "<a href=\"https://colab.research.google.com/github/busolla-code/OluwabusolaOlayinka_DTSC3020Fall2025/blob/main/Assignment2_oeo0053.ipynb\" target=\"_parent\"><img src=\"https://colab.research.google.com/assets/colab-badge.svg\" alt=\"Open In Colab\"/></a>"
      ]
    },
    {
      "cell_type": "markdown",
      "source": [
        "Step 1:"
      ],
      "metadata": {
        "id": "OXgdAHVqS-Dd"
      }
    },
    {
      "cell_type": "code",
      "source": [
        "fruits = [\"strawberry\" , \"pineapple\" , \"kiwi\"]\n",
        "print(fruits)"
      ],
      "metadata": {
        "colab": {
          "base_uri": "https://localhost:8080/"
        },
        "id": "Lpav9W_lTBK7",
        "outputId": "78ba5398-db2b-4470-a532-480a1be47216"
      },
      "execution_count": 1,
      "outputs": [
        {
          "output_type": "stream",
          "name": "stdout",
          "text": [
            "['strawberry', 'pineapple', 'kiwi']\n"
          ]
        }
      ]
    },
    {
      "cell_type": "code",
      "source": [
        "for x in fruits:\n",
        "  print(x)\n"
      ],
      "metadata": {
        "colab": {
          "base_uri": "https://localhost:8080/"
        },
        "id": "RPbAirH6TaIn",
        "outputId": "d818f19d-8a50-4c24-812a-0bfea15c201f"
      },
      "execution_count": 2,
      "outputs": [
        {
          "output_type": "stream",
          "name": "stdout",
          "text": [
            "strawberry\n",
            "pineapple\n",
            "kiwi\n"
          ]
        }
      ]
    },
    {
      "cell_type": "markdown",
      "source": [
        "Step 2:"
      ],
      "metadata": {
        "id": "2McJEH7NT53s"
      }
    },
    {
      "cell_type": "code",
      "source": [
        "names=[\"Harry\", \"Liam\", \"Naomi\", \"Draco\"]\n",
        "names[0]=\"Geoerge\"\n",
        "print(names)"
      ],
      "metadata": {
        "colab": {
          "base_uri": "https://localhost:8080/"
        },
        "id": "ayoQg9alT741",
        "outputId": "dae66081-60dc-49b2-9b91-429e20bd4bf4"
      },
      "execution_count": 3,
      "outputs": [
        {
          "output_type": "stream",
          "name": "stdout",
          "text": [
            "['Geoerge', 'Liam', 'Naomi', 'Draco']\n"
          ]
        }
      ]
    },
    {
      "cell_type": "markdown",
      "source": [
        "Step 3:"
      ],
      "metadata": {
        "id": "8s3EQFxlXLXP"
      }
    },
    {
      "cell_type": "code",
      "source": [
        "vehicles=[\"car\",\"bus\",\"bike\",\"boat\",\"plane\"]\n",
        "vehicles.append(\"train\")\n",
        "print(vehicles)"
      ],
      "metadata": {
        "colab": {
          "base_uri": "https://localhost:8080/"
        },
        "id": "tkPwDnctXQQ-",
        "outputId": "449c896b-3a31-4e2c-a7bb-1b0504d361cc"
      },
      "execution_count": 4,
      "outputs": [
        {
          "output_type": "stream",
          "name": "stdout",
          "text": [
            "['car', 'bus', 'bike', 'boat', 'plane', 'train']\n"
          ]
        }
      ]
    },
    {
      "cell_type": "markdown",
      "source": [
        "Step 4:"
      ],
      "metadata": {
        "id": "G3_mp9A2XtgG"
      }
    },
    {
      "cell_type": "code",
      "source": [
        "foods=[\"yogurt\",\"pancake\",\"hotdog\", \"pasta\",\"corn\",\"pickle\"]\n",
        "foods.remove(\"pasta\")\n",
        "print(foods)"
      ],
      "metadata": {
        "colab": {
          "base_uri": "https://localhost:8080/"
        },
        "id": "x5LduwnuXvc2",
        "outputId": "fd47d45e-15b7-4d72-eef0-96f64c14629a"
      },
      "execution_count": 5,
      "outputs": [
        {
          "output_type": "stream",
          "name": "stdout",
          "text": [
            "['yogurt', 'pancake', 'hotdog', 'corn', 'pickle']\n"
          ]
        }
      ]
    },
    {
      "cell_type": "markdown",
      "source": [
        "Step 5:"
      ],
      "metadata": {
        "id": "wGcHc2lYYWpu"
      }
    },
    {
      "cell_type": "code",
      "source": [
        "cities=[\"New York\",\"Dallas\",\"Chicago\",\"Atlanta\"]\n",
        "cities.sort()\n",
        "print(cities)\n",
        "cities.reverse()\n",
        "print(cities)"
      ],
      "metadata": {
        "colab": {
          "base_uri": "https://localhost:8080/"
        },
        "id": "k869yGfcYWTm",
        "outputId": "23ccda7e-cc9c-4cbc-9909-a67929237463"
      },
      "execution_count": 6,
      "outputs": [
        {
          "output_type": "stream",
          "name": "stdout",
          "text": [
            "['Atlanta', 'Chicago', 'Dallas', 'New York']\n",
            "['New York', 'Dallas', 'Chicago', 'Atlanta']\n"
          ]
        }
      ]
    },
    {
      "cell_type": "markdown",
      "source": [
        "Step 6:"
      ],
      "metadata": {
        "id": "eYZobkUeZCRK"
      }
    },
    {
      "cell_type": "code",
      "source": [
        "animals=[\"lion\",\"tiger\",\"bear\"]\n",
        "for animal in animals:\n",
        "  print(animal)"
      ],
      "metadata": {
        "colab": {
          "base_uri": "https://localhost:8080/"
        },
        "id": "fcSRTPCXZE2P",
        "outputId": "8227ea71-a534-495d-9028-6f8b47b69c54"
      },
      "execution_count": 7,
      "outputs": [
        {
          "output_type": "stream",
          "name": "stdout",
          "text": [
            "lion\n",
            "tiger\n",
            "bear\n"
          ]
        }
      ]
    },
    {
      "cell_type": "markdown",
      "source": [
        "Step 7:"
      ],
      "metadata": {
        "id": "35uwp9W2Zdmo"
      }
    },
    {
      "cell_type": "code",
      "source": [
        "number=[1,2,3,4,5]\n",
        "for x in number:\n",
        "  print(x * 2)"
      ],
      "metadata": {
        "colab": {
          "base_uri": "https://localhost:8080/"
        },
        "id": "4Ey3CqZPZgfQ",
        "outputId": "613616e6-6cfb-4722-ebbf-0300395b83bc"
      },
      "execution_count": 8,
      "outputs": [
        {
          "output_type": "stream",
          "name": "stdout",
          "text": [
            "2\n",
            "4\n",
            "6\n",
            "8\n",
            "10\n"
          ]
        }
      ]
    },
    {
      "cell_type": "markdown",
      "source": [
        "Step 8:"
      ],
      "metadata": {
        "id": "DVUWLnSzZ7eX"
      }
    },
    {
      "cell_type": "code",
      "source": [
        "friends=[\"Venus\",\"Joey\",\"Favor\",\"Nifemi\",\"Daniel\",\"JJ\"]\n",
        "print(friends[:3])\n",
        "print(friends[-3:])"
      ],
      "metadata": {
        "colab": {
          "base_uri": "https://localhost:8080/"
        },
        "id": "vMCJ5TTNZ88o",
        "outputId": "b05ad69e-06fc-4618-f42f-49a763f4e41e"
      },
      "execution_count": 9,
      "outputs": [
        {
          "output_type": "stream",
          "name": "stdout",
          "text": [
            "['Venus', 'Joey', 'Favor']\n",
            "['Nifemi', 'Daniel', 'JJ']\n"
          ]
        }
      ]
    },
    {
      "cell_type": "markdown",
      "source": [
        "Step 9:"
      ],
      "metadata": {
        "id": "Vs5p78LBah3L"
      }
    },
    {
      "cell_type": "code",
      "source": [
        "numbers=list(range(1,11))\n",
        "print(numbers)"
      ],
      "metadata": {
        "colab": {
          "base_uri": "https://localhost:8080/"
        },
        "id": "bhVikpFKakRD",
        "outputId": "b8aa04a3-290c-420f-a91b-b122d1783727"
      },
      "execution_count": 10,
      "outputs": [
        {
          "output_type": "stream",
          "name": "stdout",
          "text": [
            "[1, 2, 3, 4, 5, 6, 7, 8, 9, 10]\n"
          ]
        }
      ]
    },
    {
      "cell_type": "markdown",
      "source": [
        "Step 10:"
      ],
      "metadata": {
        "id": "aP4kgFEWaugR"
      }
    },
    {
      "cell_type": "code",
      "source": [
        "squares=[x**2 for x in range(1, 6)]\n",
        "print(squares)"
      ],
      "metadata": {
        "colab": {
          "base_uri": "https://localhost:8080/"
        },
        "id": "4jW-L6Yxav4i",
        "outputId": "f451b8c0-ef13-481a-8ee0-a4614a5d6b8f"
      },
      "execution_count": 11,
      "outputs": [
        {
          "output_type": "stream",
          "name": "stdout",
          "text": [
            "[1, 4, 9, 16, 25]\n"
          ]
        }
      ]
    }
  ]
}